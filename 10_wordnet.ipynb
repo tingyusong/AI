{
  "nbformat": 4,
  "nbformat_minor": 0,
  "metadata": {
    "colab": {
      "name": "10.wordnet.ipynb",
      "provenance": [],
      "collapsed_sections": [],
      "include_colab_link": true
    },
    "kernelspec": {
      "name": "python3",
      "display_name": "Python 3"
    },
    "language_info": {
      "name": "python"
    }
  },
  "cells": [
    {
      "cell_type": "markdown",
      "metadata": {
        "id": "view-in-github",
        "colab_type": "text"
      },
      "source": [
        "<a href=\"https://colab.research.google.com/github/tingyusong/AI/blob/main/10_wordnet.ipynb\" target=\"_parent\"><img src=\"https://colab.research.google.com/assets/colab-badge.svg\" alt=\"Open In Colab\"/></a>"
      ]
    },
    {
      "cell_type": "markdown",
      "source": [
        "# 中文wordnet\n",
        "完整用法：https://github.com/lopentu/CwnGraph\n",
        "\n",
        "- 要表達字詞，必須透過向量的表示法，例如one-hot encoding\n",
        "- 然而一個字詞代表一個向量維度，會造成向量維度空間太大，造成之後計算困難，因此必須要把相似字詞做合併\n",
        "- 早期的用法是透過查詢wordnet。wordnet是透過人工的方式，建立起字詞之間的關係\n",
        "- 本範例介紹中文的wordnet，查詢\"頭\"這個字，看有多少跟\"頭\"相關的字詞\n",
        "- 另外介紹英文的wordnet，查詢跟\"dog\"相似的字詞"
      ],
      "metadata": {
        "id": "NLZPCMu0_SMu"
      }
    },
    {
      "cell_type": "code",
      "source": [
        "!pip install CwnGraph"
      ],
      "metadata": {
        "id": "2E02jlhZ8rr7",
        "outputId": "5498bb54-f2ae-43a8-9b8e-f2002833c354",
        "colab": {
          "base_uri": "https://localhost:8080/"
        }
      },
      "execution_count": 1,
      "outputs": [
        {
          "output_type": "stream",
          "name": "stdout",
          "text": [
            "Collecting CwnGraph\n",
            "  Downloading CwnGraph-0.2.0.tar.gz (27 kB)\n",
            "Requirement already satisfied: gdown in /usr/local/lib/python3.7/dist-packages (from CwnGraph) (4.4.0)\n",
            "Requirement already satisfied: tqdm in /usr/local/lib/python3.7/dist-packages (from gdown->CwnGraph) (4.64.0)\n",
            "Requirement already satisfied: filelock in /usr/local/lib/python3.7/dist-packages (from gdown->CwnGraph) (3.6.0)\n",
            "Requirement already satisfied: requests[socks] in /usr/local/lib/python3.7/dist-packages (from gdown->CwnGraph) (2.23.0)\n",
            "Requirement already satisfied: six in /usr/local/lib/python3.7/dist-packages (from gdown->CwnGraph) (1.15.0)\n",
            "Requirement already satisfied: beautifulsoup4 in /usr/local/lib/python3.7/dist-packages (from gdown->CwnGraph) (4.6.3)\n",
            "Requirement already satisfied: chardet<4,>=3.0.2 in /usr/local/lib/python3.7/dist-packages (from requests[socks]->gdown->CwnGraph) (3.0.4)\n",
            "Requirement already satisfied: certifi>=2017.4.17 in /usr/local/lib/python3.7/dist-packages (from requests[socks]->gdown->CwnGraph) (2021.10.8)\n",
            "Requirement already satisfied: idna<3,>=2.5 in /usr/local/lib/python3.7/dist-packages (from requests[socks]->gdown->CwnGraph) (2.10)\n",
            "Requirement already satisfied: urllib3!=1.25.0,!=1.25.1,<1.26,>=1.21.1 in /usr/local/lib/python3.7/dist-packages (from requests[socks]->gdown->CwnGraph) (1.24.3)\n",
            "Requirement already satisfied: PySocks!=1.5.7,>=1.5.6 in /usr/local/lib/python3.7/dist-packages (from requests[socks]->gdown->CwnGraph) (1.7.1)\n",
            "Building wheels for collected packages: CwnGraph\n",
            "  Building wheel for CwnGraph (setup.py) ... \u001b[?25l\u001b[?25hdone\n",
            "  Created wheel for CwnGraph: filename=CwnGraph-0.2.0-py3-none-any.whl size=28834 sha256=0303cc162392f5ead1b9bcb50a0fce65cff9f8846091e52f0dcd1736f3ba7212\n",
            "  Stored in directory: /root/.cache/pip/wheels/9d/35/e7/8f40ef849b2c591674f2cad419eac267821203ed5859b3f68b\n",
            "Successfully built CwnGraph\n",
            "Installing collected packages: CwnGraph\n",
            "Successfully installed CwnGraph-0.2.0\n"
          ]
        }
      ]
    },
    {
      "cell_type": "markdown",
      "source": [
        "# 將`cwn_graph.pyobj`上傳到colab目錄\n",
        "- cwn_graph.pyobj下載連結：https://github.com/joshhu/nlp_must2022/raw/main/cwn_graph.pyobj\n",
        "- 下載完成後，上傳至colab目錄，需等待上傳結束後，才可以繼續下一步執行 (上傳需數分鐘)"
      ],
      "metadata": {
        "id": "-1W4TtOp-L44"
      }
    },
    {
      "cell_type": "code",
      "execution_count": 2,
      "metadata": {
        "colab": {
          "base_uri": "https://localhost:8080/"
        },
        "id": "Kuuu-WmF8M5u",
        "outputId": "f831a5c5-174a-4c0f-fcae-02153d2169ad"
      },
      "outputs": [
        {
          "output_type": "stream",
          "name": "stdout",
          "text": [
            "CWN data installed\n"
          ]
        }
      ],
      "source": [
        "from pprint import pprint\n",
        "from CwnGraph import CwnBase\n",
        "CwnBase.install_cwn(\"cwn_graph.pyobj\")"
      ]
    },
    {
      "cell_type": "code",
      "source": [
        "from CwnGraph import CwnBase\n",
        "cwn = CwnBase()"
      ],
      "metadata": {
        "id": "TRJpglUX8eX7"
      },
      "execution_count": 3,
      "outputs": []
    },
    {
      "cell_type": "code",
      "source": [
        "#找出有電的字詞\n",
        "lemmas = cwn.find_lemma(\"電\")\n",
        "lemmas"
      ],
      "metadata": {
        "colab": {
          "base_uri": "https://localhost:8080/"
        },
        "id": "IyFF5sOw9QQj",
        "outputId": "84947017-b6b2-493f-fddd-caf2380cdfa5"
      },
      "execution_count": 7,
      "outputs": [
        {
          "output_type": "execute_result",
          "data": {
            "text/plain": [
              "[<CwnLemma: 電_1>,\n",
              " <CwnLemma: 電影_1>,\n",
              " <CwnLemma: 光電_1>,\n",
              " <CwnLemma: 電路_1>,\n",
              " <CwnLemma: 電器_1>,\n",
              " <CwnLemma: 電通所_1>,\n",
              " <CwnLemma: 電氣_1>,\n",
              " <CwnLemma: 停電_1>,\n",
              " <CwnLemma: 電廠_1>,\n",
              " <CwnLemma: 電傳_1>,\n",
              " <CwnLemma: 電影院_1>,\n",
              " <CwnLemma: 中國電視公司_1>,\n",
              " <CwnLemma: 電動_1>,\n",
              " <CwnLemma: 電信局_1>,\n",
              " <CwnLemma: 電腦_1>,\n",
              " <CwnLemma: 發電_1>,\n",
              " <CwnLemma: 電子_1>,\n",
              " <CwnLemma: 打電話_1>,\n",
              " <CwnLemma: 電視_1>,\n",
              " <CwnLemma: 電話_1>,\n",
              " <CwnLemma: 電信_1>,\n",
              " <CwnLemma: 電動玩具_1>,\n",
              " <CwnLemma: 交流電_1>,\n",
              " <CwnLemma: 電場_1>,\n",
              " <CwnLemma: 電磁波_1>,\n",
              " <CwnLemma: 電力_1>,\n",
              " <CwnLemma: 電離_1>,\n",
              " <CwnLemma: 電解質_1>,\n",
              " <CwnLemma: 電漿_1>,\n",
              " <CwnLemma: 電鰻_1>,\n",
              " <CwnLemma: 電燙_1>,\n",
              " <CwnLemma: 電腦化_1>,\n",
              " <CwnLemma: 正電_1>,\n",
              " <CwnLemma: 斷電_1>,\n",
              " <CwnLemma: 電磁學_1>,\n",
              " <CwnLemma: 電子學_1>,\n",
              " <CwnLemma: 微電子學_1>,\n",
              " <CwnLemma: 電話簿_1>,\n",
              " <CwnLemma: 電子檔_1>,\n",
              " <CwnLemma: 電費_1>,\n",
              " <CwnLemma: 電碼_1>,\n",
              " <CwnLemma: 心電圖_1>,\n",
              " <CwnLemma: 電流_1>,\n",
              " <CwnLemma: 電離層_1>,\n",
              " <CwnLemma: 光電子_1>,\n",
              " <CwnLemma: 電流計_1>,\n",
              " <CwnLemma: 電極_1>,\n",
              " <CwnLemma: 電池_1>,\n",
              " <CwnLemma: 電纜_1>,\n",
              " <CwnLemma: 電纜車_1>,\n",
              " <CwnLemma: 電石_1>,\n",
              " <CwnLemma: 電容器_1>,\n",
              " <CwnLemma: 行動電話_1>,\n",
              " <CwnLemma: 電路板_1>,\n",
              " <CwnLemma: 閉路電視_1>,\n",
              " <CwnLemma: 電線_1>,\n",
              " <CwnLemma: 電磁_1>,\n",
              " <CwnLemma: 電子錶_1>,\n",
              " <CwnLemma: 乾電池_1>,\n",
              " <CwnLemma: 熱電_1>,\n",
              " <CwnLemma: 發電機_1>,\n",
              " <CwnLemma: 流電_1>,\n",
              " <CwnLemma: 電動車_1>,\n",
              " <CwnLemma: 電鈴_1>,\n",
              " <CwnLemma: 電毯_1>,\n",
              " <CwnLemma: 電椅_1>,\n",
              " <CwnLemma: 電熱器_1>,\n",
              " <CwnLemma: 電燈_1>,\n",
              " <CwnLemma: 電動機_1>,\n",
              " <CwnLemma: 電冰箱_1>,\n",
              " <CwnLemma: 電解_1>,\n",
              " <CwnLemma: 電磁鐵_1>,\n",
              " <CwnLemma: 電子槍_1>,\n",
              " <CwnLemma: 驗電器_1>,\n",
              " <CwnLemma: 電梯_1>,\n",
              " <CwnLemma: 微電子_1>,\n",
              " <CwnLemma: 電報_1>,\n",
              " <CwnLemma: 手電筒_1>,\n",
              " <CwnLemma: 電燈泡_1>,\n",
              " <CwnLemma: 微電腦_1>,\n",
              " <CwnLemma: 電解槽_1>,\n",
              " <CwnLemma: 電插座_1>,\n",
              " <CwnLemma: 發電所_1>,\n",
              " <CwnLemma: 無線電_1>,\n",
              " <CwnLemma: 電阻_1>,\n",
              " <CwnLemma: 蓄電池_1>,\n",
              " <CwnLemma: 電車_1>,\n",
              " <CwnLemma: 變電所_1>,\n",
              " <CwnLemma: 配電盤_1>,\n",
              " <CwnLemma: 電報機_1>,\n",
              " <CwnLemma: 電話亭_1>,\n",
              " <CwnLemma: 電話線_1>,\n",
              " <CwnLemma: 電視機_1>,\n",
              " <CwnLemma: 電晶體_1>,\n",
              " <CwnLemma: 電壓表_1>,\n",
              " <CwnLemma: 通電_1>,\n",
              " <CwnLemma: 電鍍_1>,\n",
              " <CwnLemma: 靜電_1>,\n",
              " <CwnLemma: 電刑_1>,\n",
              " <CwnLemma: 閃電_1>,\n",
              " <CwnLemma: 充電_1>,\n",
              " <CwnLemma: 電工_1>,\n",
              " <CwnLemma: 電療_1>,\n",
              " <CwnLemma: 電擊_1>,\n",
              " <CwnLemma: 電扇_1>,\n",
              " <CwnLemma: 電視台_1>,\n",
              " <CwnLemma: 電台_1>,\n",
              " <CwnLemma: 回電_1>,\n",
              " <CwnLemma: 電視劇_1>,\n",
              " <CwnLemma: 電壓_1>,\n",
              " <CwnLemma: 家電_1>,\n",
              " <CwnLemma: 打電動_1>,\n",
              " <CwnLemma: 公用電話_1>,\n",
              " <CwnLemma: 看電視_1>]"
            ]
          },
          "metadata": {},
          "execution_count": 7
        }
      ]
    },
    {
      "cell_type": "markdown",
      "source": [
        "#英文wordnet\n",
        "完整用法：https://www.nltk.org/howto/wordnet.html"
      ],
      "metadata": {
        "id": "13NyCY9p_Hpi"
      }
    },
    {
      "cell_type": "code",
      "source": [
        "import nltk\n",
        "nltk.download('wordnet')\n",
        "from nltk.corpus import wordnet as wn\n",
        "#找出和英文詞相關的詞彙\n",
        "wn.synsets('cat')"
      ],
      "metadata": {
        "colab": {
          "base_uri": "https://localhost:8080/"
        },
        "id": "aDX0UHsY-dR5",
        "outputId": "4edafea9-3ecc-4285-d450-40dc4d7fb567"
      },
      "execution_count": 8,
      "outputs": [
        {
          "output_type": "stream",
          "name": "stdout",
          "text": [
            "[nltk_data] Downloading package wordnet to /root/nltk_data...\n",
            "[nltk_data]   Unzipping corpora/wordnet.zip.\n"
          ]
        },
        {
          "output_type": "execute_result",
          "data": {
            "text/plain": [
              "[Synset('cat.n.01'),\n",
              " Synset('guy.n.01'),\n",
              " Synset('cat.n.03'),\n",
              " Synset('kat.n.01'),\n",
              " Synset('cat-o'-nine-tails.n.01'),\n",
              " Synset('caterpillar.n.02'),\n",
              " Synset('big_cat.n.01'),\n",
              " Synset('computerized_tomography.n.01'),\n",
              " Synset('cat.v.01'),\n",
              " Synset('vomit.v.01')]"
            ]
          },
          "metadata": {},
          "execution_count": 8
        }
      ]
    }
  ]
}