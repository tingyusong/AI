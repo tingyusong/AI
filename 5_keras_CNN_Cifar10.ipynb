{
  "nbformat": 4,
  "nbformat_minor": 0,
  "metadata": {
    "colab": {
      "name": "5.keras_CNN_Cifar10.ipynb",
      "provenance": [],
      "collapsed_sections": [],
      "include_colab_link": true
    },
    "kernelspec": {
      "name": "python3",
      "display_name": "Python 3"
    },
    "language_info": {
      "name": "python"
    },
    "accelerator": "GPU"
  },
  "cells": [
    {
      "cell_type": "markdown",
      "metadata": {
        "id": "view-in-github",
        "colab_type": "text"
      },
      "source": [
        "<a href=\"https://colab.research.google.com/github/tingyusong/AI/blob/main/5_keras_CNN_Cifar10.ipynb\" target=\"_parent\"><img src=\"https://colab.research.google.com/assets/colab-badge.svg\" alt=\"Open In Colab\"/></a>"
      ]
    },
    {
      "cell_type": "markdown",
      "source": [
        "Flatten:拉平的意思，將二維變一維</br>\n",
        "Sequential:一列一列的</br>\n",
        "MaxPooling:降解析度"
      ],
      "metadata": {
        "id": "R49j5Yp1Dztq"
      }
    },
    {
      "cell_type": "code",
      "source": [
        "from tensorflow import keras\n",
        "from keras.models import Sequential\n",
        "from keras.layers import Dense, Conv2D, MaxPooling2D, Flatten\n",
        "model=Sequential()\n",
        "model.add(Conv2D(filters=64, kernel_size=(5, 5), input_shape=(32, 32, 3), activation='relu'))\n",
        "#Conv2D(16,(5,5))=16個5*5filters;input_shape=(32, 32, 3)指32*32pixels，3:RGB\n",
        "model.add(Conv2D(filters=64, kernel_size=(5, 5), activation='relu'))\n",
        "model.add(MaxPooling2D(pool_size=2))\n",
        "model.add(Conv2D(filters=128, kernel_size=(5, 5), activation='relu'))\n",
        "model.add(Conv2D(filters=128, kernel_size=(5, 5), activation='relu'))\n",
        "model.add(MaxPooling2D(pool_size=2))\n",
        "model.add(Flatten())\n",
        "model.add(Dense(10, activation='softmax'))\n",
        "model.summary()\n",
        "model.compile(optimizer='rmsprop', loss='categorical_crossentropy', metrics=['accuracy'])"
      ],
      "metadata": {
        "colab": {
          "base_uri": "https://localhost:8080/"
        },
        "id": "LQ_HZ-tK8L-C",
        "outputId": "143c9a3a-176f-4648-829d-8fe7d00b2d5d"
      },
      "execution_count": 2,
      "outputs": [
        {
          "output_type": "stream",
          "name": "stdout",
          "text": [
            "Model: \"sequential_1\"\n",
            "_________________________________________________________________\n",
            " Layer (type)                Output Shape              Param #   \n",
            "=================================================================\n",
            " conv2d_4 (Conv2D)           (None, 28, 28, 64)        4864      \n",
            "                                                                 \n",
            " conv2d_5 (Conv2D)           (None, 24, 24, 64)        102464    \n",
            "                                                                 \n",
            " max_pooling2d_2 (MaxPooling  (None, 12, 12, 64)       0         \n",
            " 2D)                                                             \n",
            "                                                                 \n",
            " conv2d_6 (Conv2D)           (None, 8, 8, 128)         204928    \n",
            "                                                                 \n",
            " conv2d_7 (Conv2D)           (None, 4, 4, 128)         409728    \n",
            "                                                                 \n",
            " max_pooling2d_3 (MaxPooling  (None, 2, 2, 128)        0         \n",
            " 2D)                                                             \n",
            "                                                                 \n",
            " flatten_1 (Flatten)         (None, 512)               0         \n",
            "                                                                 \n",
            " dense_1 (Dense)             (None, 10)                5130      \n",
            "                                                                 \n",
            "=================================================================\n",
            "Total params: 727,114\n",
            "Trainable params: 727,114\n",
            "Non-trainable params: 0\n",
            "_________________________________________________________________\n"
          ]
        }
      ]
    },
    {
      "cell_type": "code",
      "source": [
        "cifar10=keras.datasets.cifar10\n",
        "(train_data, train_label), (test_data, test_label) = cifar10.load_data()\n",
        "train_label_original=train_label\n",
        "train_label = keras.utils.to_categorical(train_label)\n",
        "test_label = keras.utils.to_categorical(test_label)"
      ],
      "metadata": {
        "id": "4eM5EOSr4DLB",
        "colab": {
          "base_uri": "https://localhost:8080/"
        },
        "outputId": "82767864-e2fb-4e44-cea6-e5de3ea9c355"
      },
      "execution_count": 3,
      "outputs": [
        {
          "output_type": "stream",
          "name": "stdout",
          "text": [
            "Downloading data from https://www.cs.toronto.edu/~kriz/cifar-10-python.tar.gz\n",
            "170500096/170498071 [==============================] - 2s 0us/step\n",
            "170508288/170498071 [==============================] - 2s 0us/step\n"
          ]
        }
      ]
    },
    {
      "cell_type": "code",
      "source": [
        "import matplotlib.pyplot as plt\n",
        "category=['airplane','automobile','bird','cat','deer','dog','frog','horse','ship','truck']\n",
        "plt.imshow(train_data[0])\n",
        "plt.title(category[int(train_label_original[0])])\n",
        "plt.show()\n",
        "print(train_label_original[0])"
      ],
      "metadata": {
        "colab": {
          "base_uri": "https://localhost:8080/",
          "height": 298
        },
        "id": "4j8cPTbDahQr",
        "outputId": "c992a882-9742-434f-c5c2-1e8b2dbadebb"
      },
      "execution_count": 4,
      "outputs": [
        {
          "output_type": "display_data",
          "data": {
            "text/plain": [
              "<Figure size 432x288 with 1 Axes>"
            ],
            "image/png": "[encoded data removed]"
          },
          "metadata": {
            "needs_background": "light"
          }
        },
        {
          "output_type": "stream",
          "name": "stdout",
          "text": [
            "[6]\n"
          ]
        }
      ]
    },
    {
      "cell_type": "markdown",
      "source": [
        "epochs:訓練幾輪</br>\n",
        "batch_size:一次丟幾筆資料"
      ],
      "metadata": {
        "id": "bfc1s9G5Fc0z"
      }
    },
    {
      "cell_type": "code",
      "source": [
        "train_history=model.fit(train_data,train_label,epochs=30,batch_size=512)\n"
      ],
      "metadata": {
        "id": "UFCQb8bgy3nU",
        "colab": {
          "base_uri": "https://localhost:8080/"
        },
        "outputId": "8346277f-19dd-499c-af28-f5b5723f6d24"
      },
      "execution_count": 5,
      "outputs": [
        {
          "output_type": "stream",
          "name": "stdout",
          "text": [
            "Epoch 1/30\n",
            "98/98 [==============================] - 18s 52ms/step - loss: 13.0091 - accuracy: 0.1461\n",
            "Epoch 2/30\n",
            "98/98 [==============================] - 4s 45ms/step - loss: 2.2819 - accuracy: 0.1908\n",
            "Epoch 3/30\n",
            "98/98 [==============================] - 5s 48ms/step - loss: 2.0325 - accuracy: 0.2936\n",
            "Epoch 4/30\n",
            "98/98 [==============================] - 4s 45ms/step - loss: 1.9753 - accuracy: 0.3277\n",
            "Epoch 5/30\n",
            "98/98 [==============================] - 4s 45ms/step - loss: 1.9694 - accuracy: 0.3527\n",
            "Epoch 6/30\n",
            "98/98 [==============================] - 4s 45ms/step - loss: 1.6651 - accuracy: 0.4275\n",
            "Epoch 7/30\n",
            "98/98 [==============================] - 4s 45ms/step - loss: 1.6227 - accuracy: 0.4573\n",
            "Epoch 8/30\n",
            "98/98 [==============================] - 4s 46ms/step - loss: 1.4479 - accuracy: 0.5067\n",
            "Epoch 9/30\n",
            "98/98 [==============================] - 4s 46ms/step - loss: 1.2731 - accuracy: 0.5663\n",
            "Epoch 10/30\n",
            "98/98 [==============================] - 5s 46ms/step - loss: 1.1407 - accuracy: 0.6116\n",
            "Epoch 11/30\n",
            "98/98 [==============================] - 5s 46ms/step - loss: 1.0245 - accuracy: 0.6491\n",
            "Epoch 12/30\n",
            "98/98 [==============================] - 5s 47ms/step - loss: 0.9228 - accuracy: 0.6851\n",
            "Epoch 13/30\n",
            "98/98 [==============================] - 5s 47ms/step - loss: 0.7989 - accuracy: 0.7260\n",
            "Epoch 14/30\n",
            "98/98 [==============================] - 5s 47ms/step - loss: 0.7054 - accuracy: 0.7587\n",
            "Epoch 15/30\n",
            "98/98 [==============================] - 5s 47ms/step - loss: 0.6004 - accuracy: 0.7960\n",
            "Epoch 16/30\n",
            "98/98 [==============================] - 5s 48ms/step - loss: 0.5180 - accuracy: 0.8241\n",
            "Epoch 17/30\n",
            "98/98 [==============================] - 5s 48ms/step - loss: 0.4455 - accuracy: 0.8480\n",
            "Epoch 18/30\n",
            "98/98 [==============================] - 5s 48ms/step - loss: 0.3889 - accuracy: 0.8700\n",
            "Epoch 19/30\n",
            "98/98 [==============================] - 5s 48ms/step - loss: 0.3489 - accuracy: 0.8840\n",
            "Epoch 20/30\n",
            "98/98 [==============================] - 5s 48ms/step - loss: 0.3174 - accuracy: 0.8977\n",
            "Epoch 21/30\n",
            "98/98 [==============================] - 5s 48ms/step - loss: 0.2870 - accuracy: 0.9085\n",
            "Epoch 22/30\n",
            "98/98 [==============================] - 5s 48ms/step - loss: 0.2633 - accuracy: 0.9165\n",
            "Epoch 23/30\n",
            "98/98 [==============================] - 5s 47ms/step - loss: 0.2547 - accuracy: 0.9202\n",
            "Epoch 24/30\n",
            "98/98 [==============================] - 5s 47ms/step - loss: 0.2533 - accuracy: 0.9245\n",
            "Epoch 25/30\n",
            "98/98 [==============================] - 5s 47ms/step - loss: 0.2513 - accuracy: 0.9282\n",
            "Epoch 26/30\n",
            "98/98 [==============================] - 5s 47ms/step - loss: 0.2124 - accuracy: 0.9368\n",
            "Epoch 27/30\n",
            "98/98 [==============================] - 5s 47ms/step - loss: 0.2061 - accuracy: 0.9391\n",
            "Epoch 28/30\n",
            "98/98 [==============================] - 5s 47ms/step - loss: 0.2168 - accuracy: 0.9367\n",
            "Epoch 29/30\n",
            "98/98 [==============================] - 5s 47ms/step - loss: 0.2200 - accuracy: 0.9378\n",
            "Epoch 30/30\n",
            "98/98 [==============================] - 5s 48ms/step - loss: 0.1870 - accuracy: 0.9471\n"
          ]
        }
      ]
    },
    {
      "cell_type": "code",
      "source": [
        "score=model.evaluate(test_data, test_label)\n",
        "print(score[1])"
      ],
      "metadata": {
        "id": "SC2VW7yl87F-",
        "colab": {
          "base_uri": "https://localhost:8080/"
        },
        "outputId": "7b6daebc-5176-42a9-cf98-1e5d5d773048"
      },
      "execution_count": 6,
      "outputs": [
        {
          "output_type": "stream",
          "name": "stdout",
          "text": [
            "313/313 [==============================] - 2s 5ms/step - loss: 3.2528 - accuracy: 0.6045\n",
            "0.6044999957084656\n"
          ]
        }
      ]
    },
    {
      "cell_type": "code",
      "source": [
        "#繪製正確性與損失歷史圖\n",
        "import matplotlib.pyplot as plt\n",
        "import numpy as np\n",
        "\n",
        "def show_train_history(train_history, train):\n",
        "    plt.plot(train_history.history[train])\n",
        "    plt.title('Train History')\n",
        "    plt.ylabel(train)\n",
        "    plt.xlabel('Epoch')\n",
        "    plt.legend(['train'], loc='center right')\n",
        "    plt.show()\n",
        "\n",
        "show_train_history(train_history, 'accuracy')\n",
        "show_train_history(train_history, 'loss')"
      ],
      "metadata": {
        "colab": {
          "base_uri": "https://localhost:8080/",
          "height": 573
        },
        "id": "YycOQ_auS_1s",
        "outputId": "b6abda3d-a1d1-4e5f-f831-02db694ca247"
      },
      "execution_count": 7,
      "outputs": [
        {
          "output_type": "display_data",
          "data": {
            "text/plain": [
              "<Figure size 432x288 with 1 Axes>"
            ],
            "image/png": "[encoded data removed]"
          },
          "metadata": {
            "needs_background": "light"
          }
        },
        {
          "output_type": "display_data",
          "data": {
            "text/plain": [
              "<Figure size 432x288 with 1 Axes>"
            ],
            "image/png": "[encoded data removed]"
          },
          "metadata": {
            "needs_background": "light"
          }
        }
      ]
    }
  ]
}